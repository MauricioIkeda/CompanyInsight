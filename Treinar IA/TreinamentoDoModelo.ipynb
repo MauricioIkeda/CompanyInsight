{
 "cells": [
  {
   "cell_type": "code",
   "execution_count": 1,
   "metadata": {
    "colab": {
     "base_uri": "https://localhost:8080/"
    },
    "id": "xbqXeONNUsAQ",
    "outputId": "387df46a-01aa-4b9c-d749-08280678ffd0"
   },
   "outputs": [
    {
     "name": "stdout",
     "output_type": "stream",
     "text": [
      "\u001b[K     |████████████████████████████████| 6.0 MB 5.5 MB/s \n",
      "\u001b[K     |████████████████████████████████| 451 kB 70.7 MB/s \n",
      "\u001b[K     |████████████████████████████████| 10.1 MB 49.4 MB/s \n",
      "\u001b[K     |████████████████████████████████| 42 kB 1.3 MB/s \n",
      "\u001b[K     |████████████████████████████████| 181 kB 57.0 MB/s \n",
      "\u001b[K     |████████████████████████████████| 628 kB 60.3 MB/s \n",
      "\u001b[?25h"
     ]
    }
   ],
   "source": [
    "! pip install -U spacy -q "
   ]
  },
  {
   "cell_type": "code",
   "execution_count": 2,
   "metadata": {
    "colab": {
     "base_uri": "https://localhost:8080/"
    },
    "id": "B8hvZt0qUvfA",
    "outputId": "dfb808c0-d52a-4f7b-8bf9-287ea2a383d2"
   },
   "outputs": [
    {
     "name": "stdout",
     "output_type": "stream",
     "text": [
      "\u001b[1m\n",
      "============================== Info about spaCy ==============================\u001b[0m\n",
      "\n",
      "spaCy version    3.2.1                         \n",
      "Location         /usr/local/lib/python3.7/dist-packages/spacy\n",
      "Platform         Linux-5.4.144+-x86_64-with-Ubuntu-18.04-bionic\n",
      "Python version   3.7.12                        \n",
      "Pipelines                                      \n",
      "\n"
     ]
    }
   ],
   "source": [
    "!python -m spacy info"
   ]
  },
  {
   "cell_type": "code",
   "execution_count": 5,
   "metadata": {
    "colab": {
     "base_uri": "https://localhost:8080/"
    },
    "id": "OpnjAZIDU5qJ",
    "outputId": "0aebb9d9-805b-48e8-98bb-9eb9068d7bc3"
   },
   "outputs": [
    {
     "name": "stdout",
     "output_type": "stream",
     "text": [
      "--2021-12-30 17:13:03--  https://raw.githubusercontent.com/amrrs/custom-ner-with-spacy/main/pvr_training_data.json\n",
      "Resolving raw.githubusercontent.com (raw.githubusercontent.com)... 185.199.108.133, 185.199.109.133, 185.199.110.133, ...\n",
      "Connecting to raw.githubusercontent.com (raw.githubusercontent.com)|185.199.108.133|:443... connected.\n",
      "HTTP request sent, awaiting response... 200 OK\n",
      "Length: 2829 (2.8K) [text/plain]\n",
      "Saving to: ‘pvr_training_data.json’\n",
      "\n",
      "pvr_training_data.j 100%[===================>]   2.76K  --.-KB/s    in 0s      \n",
      "\n",
      "2021-12-30 17:13:03 (58.1 MB/s) - ‘pvr_training_data.json’ saved [2829/2829]\n",
      "\n"
     ]
    }
   ],
   "source": [
    "# !wget https://raw.githubusercontent.com/amrrs/custom-ner-with-spacy/main/pvr_training_data.json"
   ]
  },
  {
   "cell_type": "code",
   "execution_count": 2,
   "metadata": {
    "id": "CYc4PoUJZgVI"
   },
   "outputs": [],
   "source": [
    "import spacy\n",
    "from spacy.tokens import DocBin\n",
    "from tqdm import tqdm\n",
    "\n",
    "nlp = spacy.blank(\"pt\") # load a new spacy model\n",
    "db = DocBin() # create a DocBin object"
   ]
  },
  {
   "cell_type": "code",
   "execution_count": 3,
   "metadata": {
    "id": "ypmHuPYBZ7C0"
   },
   "outputs": [],
   "source": [
    "import json\n",
    "with open('training_data.json', encoding='utf-8') as f:\n",
    "    TRAIN_DATA = json.load(f)"
   ]
  },
  {
   "cell_type": "code",
   "execution_count": 4,
   "metadata": {
    "colab": {
     "base_uri": "https://localhost:8080/"
    },
    "id": "VRGQF9p2VKss",
    "outputId": "205de197-2cd9-4255-ee1f-dde5dc86ebb8"
   },
   "outputs": [
    {
     "name": "stderr",
     "output_type": "stream",
     "text": [
      "100%|██████████| 497/497 [00:00<00:00, 1425.77it/s]"
     ]
    },
    {
     "name": "stdout",
     "output_type": "stream",
     "text": [
      "Skipping entity\n"
     ]
    },
    {
     "name": "stderr",
     "output_type": "stream",
     "text": [
      "\n"
     ]
    }
   ],
   "source": [
    "for text, annot in tqdm(TRAIN_DATA['annotations']): \n",
    "    doc = nlp.make_doc(text) \n",
    "    ents = []\n",
    "    for start, end, label in annot[\"entities\"]:\n",
    "        span = doc.char_span(start, end, label=label, alignment_mode=\"contract\")\n",
    "        if span is None:\n",
    "            print(\"Skipping entity\")\n",
    "        else:\n",
    "            ents.append(span)\n",
    "    doc.ents = ents \n",
    "    db.add(doc)\n",
    "\n",
    "db.to_disk(\"./training_data.spacy\") # save the docbin object"
   ]
  },
  {
   "cell_type": "code",
   "execution_count": 5,
   "metadata": {
    "colab": {
     "base_uri": "https://localhost:8080/"
    },
    "id": "SECGYS_KVUHF",
    "outputId": "52cec175-2d54-406d-cd06-a12d659009a7"
   },
   "outputs": [
    {
     "name": "stdout",
     "output_type": "stream",
     "text": [
      "\u001b[38;5;4mℹ Generated config template specific for your use case\u001b[0m\n",
      "- Language: pt\n",
      "- Pipeline: ner\n",
      "- Optimize for: efficiency\n",
      "- Hardware: CPU\n",
      "- Transformer: None\n",
      "\u001b[38;5;2m✔ Auto-filled config with all values\u001b[0m\n",
      "\u001b[38;5;2m✔ Saved config\u001b[0m\n",
      "config.cfg\n",
      "You can now add your data and train your pipeline:\n",
      "python -m spacy train config.cfg --paths.train ./train.spacy --paths.dev ./dev.spacy\n"
     ]
    }
   ],
   "source": [
    "! python -m spacy init config config.cfg --lang pt --pipeline ner --optimize efficiency"
   ]
  },
  {
   "cell_type": "code",
   "execution_count": 6,
   "metadata": {
    "colab": {
     "base_uri": "https://localhost:8080/"
    },
    "id": "sT82H_hqWaGP",
    "outputId": "116c82f1-1c8d-469c-bfa1-a816fa7cb896"
   },
   "outputs": [
    {
     "name": "stdout",
     "output_type": "stream",
     "text": [
      "\u001b[38;5;4mℹ Saving to output directory: .\u001b[0m\n",
      "\u001b[38;5;4mℹ Using CPU\u001b[0m\n",
      "\u001b[1m\n",
      "=========================== Initializing pipeline ===========================\u001b[0m\n",
      "\u001b[38;5;2m✔ Initialized pipeline\u001b[0m\n",
      "\u001b[1m\n",
      "============================= Training pipeline =============================\u001b[0m\n",
      "\u001b[38;5;4mℹ Pipeline: ['tok2vec', 'ner']\u001b[0m\n",
      "\u001b[38;5;4mℹ Initial learn rate: 0.001\u001b[0m\n",
      "E    #       LOSS TOK2VEC  LOSS NER  ENTS_F  ENTS_P  ENTS_R  SCORE \n",
      "---  ------  ------------  --------  ------  ------  ------  ------\n",
      "  0       0          0.00     43.45    0.00    0.00    0.00    0.00\n",
      "  0     200       1281.09   3453.44   47.35   64.94   37.26    0.47\n",
      "  0     400        133.29   1311.26   52.82   61.04   46.55    0.53\n",
      "  1     600         89.55   1165.79   61.36   62.67   60.10    0.61\n",
      "  1     800         94.26   1222.41   62.27   64.11   60.54    0.62\n",
      "  2    1000        228.12   1274.77   68.10   68.59   67.62    0.68\n",
      "  3    1200        397.68   1381.33   67.58   67.03   68.13    0.68\n",
      "  3    1400       1969.06   1662.59   72.45   85.31   62.95    0.72\n",
      "  4    1600        269.68   1560.74   80.00   84.45   75.99    0.80\n",
      "  5    1800        538.79   1643.11   81.35   84.61   78.32    0.81\n",
      "  7    2000        411.49   1717.56   83.66   88.03   79.71    0.84\n",
      "  8    2200       2160.82   1854.33   89.45   89.39   89.51    0.89\n",
      " 11    2400       5805.06   1952.78   91.61   91.80   91.41    0.92\n",
      " 13    2600      14206.38   1702.04   95.39   96.51   94.30    0.95\n",
      " 16    2800       1434.28   1251.86   96.82   97.09   96.55    0.97\n",
      " 19    3000       1967.75   1208.37   95.94   96.06   95.81    0.96\n",
      " 21    3200        903.77    952.53   97.91   97.56   98.27    0.98\n",
      " 24    3400       1042.89    829.46   98.52   98.12   98.92    0.99\n",
      " 27    3600       4609.12    760.51   98.36   98.11   98.62    0.98\n",
      " 29    3800        662.03    684.37   98.44   98.74   98.14    0.98\n",
      " 32    4000        741.25    583.01   98.59   98.79   98.40    0.99\n",
      " 35    4200        771.06    579.33   98.33   97.58   99.09    0.98\n",
      " 37    4400       1209.79    595.64   99.05   98.55   99.57    0.99\n",
      " 40    4600        850.81    468.57   99.26   99.48   99.05    0.99\n",
      " 43    4800        739.90    465.61   99.23   98.84   99.61    0.99\n",
      " 45    5000       2948.44    502.63   99.18   98.93   99.44    0.99\n",
      " 48    5200       1776.32    452.37   99.29   99.14   99.44    0.99\n",
      " 51    5400        893.37    459.98   99.14   99.26   99.01    0.99\n",
      " 53    5600       1971.01    447.37   99.26   99.44   99.09    0.99\n",
      " 56    5800       2330.96    429.30   99.59   99.57   99.61    1.00\n",
      " 59    6000       1056.88    378.46   99.24   99.18   99.31    0.99\n",
      " 61    6200        830.26    343.45   99.46   99.40   99.53    0.99\n",
      " 64    6400       8541.09    426.46   99.42   99.61   99.22    0.99\n",
      " 67    6600       4163.89    387.38   99.50   99.52   99.48    1.00\n",
      " 69    6800       1230.39    354.13   99.24   99.57   98.92    0.99\n",
      " 72    7000       1021.83    303.22   99.46   99.40   99.53    0.99\n",
      " 75    7200       1429.37    332.80   99.44   99.31   99.57    0.99\n",
      " 77    7400       1940.18    326.98   99.48   99.52   99.44    0.99\n",
      "\u001b[38;5;2m✔ Saved pipeline to output directory\u001b[0m\n",
      "model-last\n"
     ]
    }
   ],
   "source": [
    "! python -m spacy train config.cfg --output ./ --paths.train ./training_data.spacy --paths.dev ./training_data.spacy"
   ]
  },
  {
   "cell_type": "code",
   "execution_count": 3,
   "metadata": {
    "id": "8zljPkppcy_w"
   },
   "outputs": [],
   "source": [
    "nlp_ner = spacy.load(\"model-best\") "
   ]
  },
  {
   "cell_type": "code",
   "execution_count": 8,
   "metadata": {
    "id": "GTbWEZ9Cc9b4"
   },
   "outputs": [],
   "source": [
    "doc = nlp_ner('''Comprei o notebook em junho de 2024, veio lacrado, tudo direitinho. Já tive outro notebook da positivo, que me serviu muito bem por mais de 10 anos, por isso preferi comprar da mesma marca. Comprei pois estava precisando p estudar, com urgência! Já não fiquei muito satisfeita pq achei muito lento, mas tudo bem. Com uns 3 meses deu defeito, e simplesmente não ligou mais, conectava no carregador, mas não carregava. Levei p autorizada, já tem 1 mês, e nada! A gente faz uma dívida, sem poder, por necessidade, ainda estou pagando, além de já não ter ficado tão satisfeita c o produto, ainda tem, ainda tem esse tipo de problema''') # input sample text"
   ]
  },
  {
   "cell_type": "code",
   "execution_count": 9,
   "metadata": {
    "colab": {
     "base_uri": "https://localhost:8080/",
     "height": 1000
    },
    "id": "oBNf3_JGWzB9",
    "outputId": "800fb73d-817b-42af-dc2a-5726df1cef48"
   },
   "outputs": [
    {
     "data": {
      "text/html": [
       "<span class=\"tex2jax_ignore\"><div class=\"entities\" style=\"line-height: 2.5; direction: ltr\">Comprei o \n",
       "<mark class=\"entity\" style=\"background: #ddd; padding: 0.45em 0.6em; margin: 0 0.25em; line-height: 1; border-radius: 0.35em;\">\n",
       "    notebook\n",
       "    <span style=\"font-size: 0.8em; font-weight: bold; line-height: 1; border-radius: 0.35em; vertical-align: middle; margin-left: 0.5rem\">PRODUTO</span>\n",
       "</mark>\n",
       " em junho de 2024, \n",
       "<mark class=\"entity\" style=\"background: #ddd; padding: 0.45em 0.6em; margin: 0 0.25em; line-height: 1; border-radius: 0.35em;\">\n",
       "    veio lacrado\n",
       "    <span style=\"font-size: 0.8em; font-weight: bold; line-height: 1; border-radius: 0.35em; vertical-align: middle; margin-left: 0.5rem\">MOTIVO</span>\n",
       "</mark>\n",
       ", tudo direitinho. Já tive outro \n",
       "<mark class=\"entity\" style=\"background: #ddd; padding: 0.45em 0.6em; margin: 0 0.25em; line-height: 1; border-radius: 0.35em;\">\n",
       "    notebook\n",
       "    <span style=\"font-size: 0.8em; font-weight: bold; line-height: 1; border-radius: 0.35em; vertical-align: middle; margin-left: 0.5rem\">PRODUTO</span>\n",
       "</mark>\n",
       " da positivo, que me serviu muito bem por mais de 10 anos, por isso preferi comprar da mesma marca. Comprei pois estava precisando p estudar, com urgência! Já não fiquei muito satisfeita pq achei muito lento, mas tudo bem. Com uns 3 meses deu defeito, e \n",
       "<mark class=\"entity\" style=\"background: #ddd; padding: 0.45em 0.6em; margin: 0 0.25em; line-height: 1; border-radius: 0.35em;\">\n",
       "    simplesmente não ligou mais\n",
       "    <span style=\"font-size: 0.8em; font-weight: bold; line-height: 1; border-radius: 0.35em; vertical-align: middle; margin-left: 0.5rem\">MOTIVO</span>\n",
       "</mark>\n",
       ", conectava no carregador, mas não carregava. Levei p autorizada, já tem 1 mês, e nada! A gente faz uma dívida, sem poder, por necessidade, ainda estou pagando, além de já \n",
       "<mark class=\"entity\" style=\"background: #ddd; padding: 0.45em 0.6em; margin: 0 0.25em; line-height: 1; border-radius: 0.35em;\">\n",
       "    não ter ficado tão satisfeita c o produto, ainda tem, ainda tem esse tipo de problema\n",
       "    <span style=\"font-size: 0.8em; font-weight: bold; line-height: 1; border-radius: 0.35em; vertical-align: middle; margin-left: 0.5rem\">MOTIVO</span>\n",
       "</mark>\n",
       "</div></span>"
      ],
      "text/plain": [
       "<IPython.core.display.HTML object>"
      ]
     },
     "metadata": {},
     "output_type": "display_data"
    }
   ],
   "source": [
    "spacy.displacy.render(doc, style=\"ent\", jupyter=True) # display in Jupyter"
   ]
  }
 ],
 "metadata": {
  "colab": {
   "name": "Custom NER with Spacy3",
   "provenance": []
  },
  "kernelspec": {
   "display_name": "Python 3",
   "name": "python3"
  },
  "language_info": {
   "codemirror_mode": {
    "name": "ipython",
    "version": 3
   },
   "file_extension": ".py",
   "mimetype": "text/x-python",
   "name": "python",
   "nbconvert_exporter": "python",
   "pygments_lexer": "ipython3",
   "version": "3.12.7"
  }
 },
 "nbformat": 4,
 "nbformat_minor": 0
}
