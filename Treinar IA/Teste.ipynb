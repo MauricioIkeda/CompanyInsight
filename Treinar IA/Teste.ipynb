{
 "cells": [
  {
   "cell_type": "code",
   "execution_count": 1,
   "metadata": {
    "id": "CYc4PoUJZgVI"
   },
   "outputs": [],
   "source": [
    "import spacy"
   ]
  },
  {
   "cell_type": "code",
   "execution_count": 2,
   "metadata": {
    "id": "8zljPkppcy_w"
   },
   "outputs": [],
   "source": [
    "nlp_ner = spacy.load(\"NovaIA\") "
   ]
  },
  {
   "cell_type": "code",
   "execution_count": 11,
   "metadata": {
    "id": "GTbWEZ9Cc9b4"
   },
   "outputs": [],
   "source": [
    "doc = nlp_ner('''Aconteceu mês passado de pedir 2 vezes no Habibs (Dique do Tororó, Salvador - BA) via app/ delivery. Costumava pedir com frequencia, através do app próprio do Habibs, porém, as duas ultimas vezes só passei mal de fome e ódio. Dia 12/10 e depois em 20/10. Em ambas as ocasiões, não recebi o pedido. Os pedidos foram de R$31,80 e depois de R$51,10 pagos no débito automático. A entrega não era possível rastrear, e recebi no whatsapp um código dizendo que entregador havia chegado. Porém, eu já estava no portão aguardando desde o momento em que recebi a mensagem que o pedido estaria chegando em até no máximo 5 min. Nenhum entregador havia chegado. Continuei lá em baixo por mais de 30 minutos NAS DUAS OCASIÕES, em dias diferentes. Estou revoltado com essa empresa. É um absurdo isso. Em uma das ocasiões (20/10) estava chegando exausto de um trabalho, tarde da noite e efetuei o pedido assim que cheguei contando em fazer minha refeição com tranquilidade. 00h30 estava eu inventando algo na cozinha por quê simplesmente não recebi e vi que nem receberia mais meu produto. O pior de tudo é que eu tentei contato através daquela [Editado pelo Reclame Aqui] de Tia Êda (whatsapp) que é o mesmo que nada. Só resposta automática e não possibilita a gente resolver o problema. Só raiva. Nem o estorno eu recebi até hoje pq não consigo um canal de comunicação. Esse aplicativo de vocês é pessimo. Um desrespeito ao cliente em tantas camadas. Abri chamadas através da Tia Eda tambem.. tenho os protocolos. Esse tempo todo tentei contato com a empresa pra resolver minha situacão. Essa vez aqui no reclame aqui é a ultima antes de eu buscar um advogado para adentrar com uma representação judicial. Não se faz isso com o consumidor.\n",
    "\n",
    "''') # input sample text"
   ]
  },
  {
   "cell_type": "code",
   "execution_count": 12,
   "metadata": {
    "colab": {
     "base_uri": "https://localhost:8080/",
     "height": 1000
    },
    "id": "oBNf3_JGWzB9",
    "outputId": "800fb73d-817b-42af-dc2a-5726df1cef48"
   },
   "outputs": [
    {
     "data": {
      "text/html": [
       "<span class=\"tex2jax_ignore\"><div class=\"entities\" style=\"line-height: 2.5; direction: ltr\">Aconteceu mês passado de pedir 2 vezes no \n",
       "<mark class=\"entity\" style=\"background: #ddd; padding: 0.45em 0.6em; margin: 0 0.25em; line-height: 1; border-radius: 0.35em;\">\n",
       "    Habibs\n",
       "    <span style=\"font-size: 0.8em; font-weight: bold; line-height: 1; border-radius: 0.35em; vertical-align: middle; margin-left: 0.5rem\">MARCA</span>\n",
       "</mark>\n",
       " (Dique do Tororó, Salvador - BA) via app/ delivery. Costumava pedir com frequencia, através do app próprio do Habibs, porém, as duas ultimas vezes só passei mal de fome e ódio. Dia 12/10 e depois em 20/10. Em ambas as ocasiões, não recebi o pedido. Os pedidos foram de R$31,80 e depois de R$51,10 pagos no débito automático. A entrega não era possível rastrear, e recebi no whatsapp um código dizendo que entregador havia chegado. Porém, eu já estava no portão aguardando desde o momento em que recebi a mensagem que o pedido estaria chegando em até no máximo 5 min. Nenhum entregador havia chegado. Continuei lá em baixo por mais de 30 minutos NAS DUAS OCASIÕES, em dias diferentes. Estou revoltado com essa empresa. É um absurdo isso. Em uma das ocasiões (20/10) estava chegando exausto de um trabalho, tarde da noite e efetuei o pedido assim que cheguei contando em fazer minha refeição com tranquilidade. 00h30 estava eu inventando algo na cozinha por quê simplesmente não recebi e vi que nem receberia mais meu produto. O pior de tudo é que eu tentei contato através daquela [Editado pelo Reclame Aqui] de Tia Êda (whatsapp) que é o mesmo que nada. Só resposta automática e não possibilita a gente resolver o problema. Só raiva. Nem o estorno eu recebi até hoje pq não consigo um canal de comunicação. Esse aplicativo de vocês é pessimo. Um desrespeito ao cliente em tantas camadas. Abri chamadas através da Tia Eda tambem.. tenho os protocolos. Esse tempo todo tentei contato com a empresa pra resolver minha situacão. Essa vez aqui no reclame aqui é a ultima antes de eu buscar um advogado para adentrar com uma representação judicial. Não se faz isso com o consumidor.<br><br></div></span>"
      ],
      "text/plain": [
       "<IPython.core.display.HTML object>"
      ]
     },
     "metadata": {},
     "output_type": "display_data"
    }
   ],
   "source": [
    "spacy.displacy.render(doc, style=\"ent\", jupyter=True) # display in Jupyter"
   ]
  }
 ],
 "metadata": {
  "colab": {
   "name": "Custom NER with Spacy3",
   "provenance": []
  },
  "kernelspec": {
   "display_name": "Python 3",
   "name": "python3"
  },
  "language_info": {
   "codemirror_mode": {
    "name": "ipython",
    "version": 3
   },
   "file_extension": ".py",
   "mimetype": "text/x-python",
   "name": "python",
   "nbconvert_exporter": "python",
   "pygments_lexer": "ipython3",
   "version": "3.12.7"
  }
 },
 "nbformat": 4,
 "nbformat_minor": 0
}
