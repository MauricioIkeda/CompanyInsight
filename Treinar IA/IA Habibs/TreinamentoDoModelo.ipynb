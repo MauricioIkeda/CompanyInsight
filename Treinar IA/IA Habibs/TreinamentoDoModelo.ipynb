{
 "cells": [
  {
   "cell_type": "code",
   "execution_count": 26,
   "metadata": {
    "colab": {
     "base_uri": "https://localhost:8080/"
    },
    "id": "xbqXeONNUsAQ",
    "outputId": "387df46a-01aa-4b9c-d749-08280678ffd0"
   },
   "outputs": [],
   "source": [
    "! pip install -U spacy -q "
   ]
  },
  {
   "cell_type": "code",
   "execution_count": 27,
   "metadata": {
    "colab": {
     "base_uri": "https://localhost:8080/"
    },
    "id": "B8hvZt0qUvfA",
    "outputId": "dfb808c0-d52a-4f7b-8bf9-287ea2a383d2"
   },
   "outputs": [
    {
     "name": "stdout",
     "output_type": "stream",
     "text": [
      "\u001b[1m\n",
      "============================== Info about spaCy ==============================\u001b[0m\n",
      "\n",
      "spaCy version    3.8.2                         \n",
      "Location         c:\\Users\\kingu\\AppData\\Local\\Programs\\Python\\Python312\\Lib\\site-packages\\spacy\n",
      "Platform         Windows-11-10.0.26100-SP0     \n",
      "Python version   3.12.7                        \n",
      "Pipelines        pt_core_news_lg (3.8.0)       \n",
      "\n"
     ]
    }
   ],
   "source": [
    "!python -m spacy info"
   ]
  },
  {
   "cell_type": "code",
   "execution_count": 28,
   "metadata": {
    "colab": {
     "base_uri": "https://localhost:8080/"
    },
    "id": "OpnjAZIDU5qJ",
    "outputId": "0aebb9d9-805b-48e8-98bb-9eb9068d7bc3"
   },
   "outputs": [],
   "source": [
    "# !wget https://raw.githubusercontent.com/amrrs/custom-ner-with-spacy/main/pvr_training_data.json"
   ]
  },
  {
   "cell_type": "code",
   "execution_count": 1,
   "metadata": {
    "id": "CYc4PoUJZgVI"
   },
   "outputs": [],
   "source": [
    "import spacy\n",
    "from spacy.tokens import DocBin\n",
    "from tqdm import tqdm\n",
    "\n",
    "nlp = spacy.blank(\"pt\")\n",
    "db = DocBin()"
   ]
  },
  {
   "cell_type": "code",
   "execution_count": 2,
   "metadata": {
    "id": "ypmHuPYBZ7C0"
   },
   "outputs": [],
   "source": [
    "import json\n",
    "with open('training_data.json', encoding='utf-8') as f:\n",
    "    TRAIN_DATA = json.load(f)"
   ]
  },
  {
   "cell_type": "code",
   "execution_count": 3,
   "metadata": {
    "colab": {
     "base_uri": "https://localhost:8080/"
    },
    "id": "VRGQF9p2VKss",
    "outputId": "205de197-2cd9-4255-ee1f-dde5dc86ebb8"
   },
   "outputs": [
    {
     "name": "stderr",
     "output_type": "stream",
     "text": [
      "100%|██████████| 500/500 [00:00<00:00, 1478.43it/s]\n"
     ]
    }
   ],
   "source": [
    "for text, annot in tqdm(TRAIN_DATA['annotations']): \n",
    "    doc = nlp.make_doc(text) \n",
    "    ents = []\n",
    "    for start, end, label in annot[\"entities\"]:\n",
    "        span = doc.char_span(start, end, label=label, alignment_mode=\"contract\")\n",
    "        if span is None:\n",
    "            print(\"Skipping entity\")\n",
    "        else:\n",
    "            ents.append(span)\n",
    "    doc.ents = ents \n",
    "    db.add(doc)\n",
    "\n",
    "db.to_disk(\"./training_data.spacy\")"
   ]
  },
  {
   "cell_type": "code",
   "execution_count": 4,
   "metadata": {
    "colab": {
     "base_uri": "https://localhost:8080/"
    },
    "id": "SECGYS_KVUHF",
    "outputId": "52cec175-2d54-406d-cd06-a12d659009a7"
   },
   "outputs": [
    {
     "name": "stdout",
     "output_type": "stream",
     "text": [
      "\u001b[38;5;4mℹ Generated config template specific for your use case\u001b[0m\n",
      "- Language: pt\n",
      "- Pipeline: ner\n",
      "- Optimize for: efficiency\n",
      "- Hardware: CPU\n",
      "- Transformer: None\n",
      "\u001b[38;5;2m✔ Auto-filled config with all values\u001b[0m\n",
      "\u001b[38;5;2m✔ Saved config\u001b[0m\n",
      "config.cfg\n",
      "You can now add your data and train your pipeline:\n",
      "python -m spacy train config.cfg --paths.train ./train.spacy --paths.dev ./dev.spacy\n"
     ]
    }
   ],
   "source": [
    "! python -m spacy init config config.cfg --lang pt --pipeline ner --optimize efficiency"
   ]
  },
  {
   "cell_type": "code",
   "execution_count": 5,
   "metadata": {
    "colab": {
     "base_uri": "https://localhost:8080/"
    },
    "id": "sT82H_hqWaGP",
    "outputId": "116c82f1-1c8d-469c-bfa1-a816fa7cb896"
   },
   "outputs": [
    {
     "name": "stdout",
     "output_type": "stream",
     "text": [
      "\u001b[38;5;4mℹ Saving to output directory: .\u001b[0m\n",
      "\u001b[38;5;4mℹ Using CPU\u001b[0m\n",
      "\u001b[1m\n",
      "=========================== Initializing pipeline ===========================\u001b[0m\n",
      "\u001b[38;5;2m✔ Initialized pipeline\u001b[0m\n",
      "\u001b[1m\n",
      "============================= Training pipeline =============================\u001b[0m\n",
      "\u001b[38;5;4mℹ Pipeline: ['tok2vec', 'ner']\u001b[0m\n",
      "\u001b[38;5;4mℹ Initial learn rate: 0.001\u001b[0m\n",
      "E    #       LOSS TOK2VEC  LOSS NER  ENTS_F  ENTS_P  ENTS_R  SCORE \n",
      "---  ------  ------------  --------  ------  ------  ------  ------\n",
      "  0       0          0.00     41.14    0.00    0.00    0.00    0.00\n",
      "  0     200       7940.66   2880.02   41.83   50.05   35.93    0.42\n",
      "  0     400        143.94    787.28   52.00   63.83   43.86    0.52\n",
      "  1     600         54.28    710.89   53.10   60.27   47.46    0.53\n",
      "  1     800         69.52    813.23   58.20   65.09   52.62    0.58\n",
      "  2    1000        511.78    815.26   59.44   67.79   52.92    0.59\n",
      "  2    1200        195.87    844.52   60.75   66.94   55.61    0.61\n",
      "  3    1400        137.10    907.28   69.14   69.19   69.09    0.69\n",
      "  4    1600        164.63    927.75   71.13   69.50   72.83    0.71\n",
      "  5    1800        211.30   1061.27   70.97   73.91   68.26    0.71\n",
      "  6    2000        700.74   1137.72   78.58   79.48   77.69    0.79\n",
      "  7    2200       3406.80   1442.59   80.41   89.08   73.28    0.80\n",
      "  9    2400        404.80   1194.99   83.77   82.76   84.81    0.84\n",
      " 11    2600       7200.72   1288.99   85.40   86.08   84.73    0.85\n",
      " 13    2800        695.79   1086.52   91.93   91.79   92.07    0.92\n",
      " 16    3000        648.59    949.27   91.95   91.11   92.81    0.92\n",
      " 18    3200        640.74    834.15   93.50   93.89   93.11    0.93\n",
      " 20    3400        992.75    739.83   95.55   97.21   93.94    0.96\n",
      " 23    3600        650.45    661.87   96.13   97.53   94.76    0.96\n",
      " 25    3800        690.58    603.47   95.97   96.59   95.36    0.96\n",
      " 27    4000       1660.78    577.25   96.47   96.69   96.26    0.96\n",
      " 30    4200        717.06    521.82   97.75   97.97   97.53    0.98\n",
      " 32    4400        611.41    419.04   97.86   98.12   97.60    0.98\n",
      " 34    4600        738.06    433.17   97.05   95.71   98.43    0.97\n",
      " 37    4800        940.55    436.62   97.72   97.47   97.98    0.98\n",
      " 39    5000       2824.22    383.33   98.47   98.43   98.50    0.98\n",
      " 41    5200        795.53    370.41   96.38   96.13   96.63    0.96\n",
      " 44    5400        957.97    395.07   97.19   97.16   97.23    0.97\n",
      " 46    5600        809.32    327.21   98.02   97.62   98.43    0.98\n",
      " 48    5800      13121.64    497.75   97.74   98.19   97.31    0.98\n",
      " 51    6000       1317.35    294.62   98.84   98.59   99.10    0.99\n",
      " 53    6200       1849.40    303.96   98.46   98.87   98.05    0.98\n",
      " 55    6400       1079.87    258.53   99.03   98.88   99.18    0.99\n",
      " 58    6600       1223.52    262.68   99.03   99.17   98.88    0.99\n",
      " 60    6800       1010.69    237.56   98.25   97.92   98.58    0.98\n",
      " 62    7000       1626.11    287.43   99.40   99.33   99.48    0.99\n",
      " 65    7200       1886.08    260.58   98.92   98.88   98.95    0.99\n",
      " 67    7400       1225.77    251.11   99.14   99.18   99.10    0.99\n",
      " 69    7600       1727.82    261.72   98.62   98.08   99.18    0.99\n",
      " 72    7800       1840.61    237.52   99.21   99.32   99.10    0.99\n",
      " 74    8000       1529.97    185.59   98.88   98.80   98.95    0.99\n",
      " 76    8200       2832.85    273.33   98.76   98.80   98.73    0.99\n",
      " 79    8400       1208.71    175.54   99.25   99.47   99.03    0.99\n",
      " 81    8600       9310.81    263.25   99.29   99.33   99.25    0.99\n",
      "\u001b[38;5;2m✔ Saved pipeline to output directory\u001b[0m\n",
      "model-last\n"
     ]
    }
   ],
   "source": [
    "! python -m spacy train config.cfg --output ./ --paths.train ./training_data.spacy --paths.dev ./training_data.spacy"
   ]
  },
  {
   "cell_type": "code",
   "execution_count": 6,
   "metadata": {
    "id": "8zljPkppcy_w"
   },
   "outputs": [],
   "source": [
    "nlp_ner = spacy.load(\"model-best\") "
   ]
  },
  {
   "cell_type": "code",
   "execution_count": 7,
   "metadata": {
    "id": "GTbWEZ9Cc9b4"
   },
   "outputs": [],
   "source": [
    "doc = nlp_ner('''Meu tablet, que foi dado pelo Governo do Estado do Ceará, não desativa mais o modo de rotação de tela, já tentei de todos os jeitos. Queria saber um modo de resolver isso.''')"
   ]
  },
  {
   "cell_type": "code",
   "execution_count": null,
   "metadata": {
    "colab": {
     "base_uri": "https://localhost:8080/",
     "height": 1000
    },
    "id": "oBNf3_JGWzB9",
    "outputId": "800fb73d-817b-42af-dc2a-5726df1cef48"
   },
   "outputs": [
    {
     "data": {
      "text/html": [
       "<span class=\"tex2jax_ignore\"><div class=\"entities\" style=\"line-height: 2.5; direction: ltr\">Meu tablet, que foi dado pelo Governo do Estado do Ceará, não desativa mais o modo de rotação de tela, já tentei de todos os jeitos. Queria saber um modo de resolver isso.</div></span>"
      ],
      "text/plain": [
       "<IPython.core.display.HTML object>"
      ]
     },
     "metadata": {},
     "output_type": "display_data"
    }
   ],
   "source": [
    "spacy.displacy.render(doc, style=\"ent\", jupyter=True)"
   ]
  }
 ],
 "metadata": {
  "colab": {
   "name": "Custom NER with Spacy3",
   "provenance": []
  },
  "kernelspec": {
   "display_name": "Python 3",
   "name": "python3"
  },
  "language_info": {
   "codemirror_mode": {
    "name": "ipython",
    "version": 3
   },
   "file_extension": ".py",
   "mimetype": "text/x-python",
   "name": "python",
   "nbconvert_exporter": "python",
   "pygments_lexer": "ipython3",
   "version": "3.12.7"
  }
 },
 "nbformat": 4,
 "nbformat_minor": 0
}
