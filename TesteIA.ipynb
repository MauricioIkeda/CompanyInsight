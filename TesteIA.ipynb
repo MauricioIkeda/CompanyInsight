{
  "cells": [
    {
      "cell_type": "code",
      "execution_count": 15,
      "metadata": {
        "id": "CYc4PoUJZgVI"
      },
      "outputs": [],
      "source": [
        "import spacy\n",
        "\n",
        "nlp_ner = spacy.load(\"Treinar IA/IA Positivo/model-best\") "
      ]
    },
    {
      "cell_type": "code",
      "execution_count": 16,
      "metadata": {
        "id": "GTbWEZ9Cc9b4"
      },
      "outputs": [],
      "source": [
        "doc = nlp_ner('''Adquiri um notebook ntb positivo motion gray c4120f através do site da positivo por conta de estar iniciando um novo curso de pós graduação. o produto foi entregue mas em seguida tive que fazer uma viagem e fiquei quase 30 dias fora. quando voltei e fui dar início à minhas aulas, o notebook conectava no wi-fi mas caia a cada 5 minutos, não dava pra utilizar por o problema era contínuo. acessei o atendimento da empresa via whatsapp e segui todas as orientações, atualizei, reconfigurei, baixei drive novo, restaurei o note inteiro e nada. absolutamente nada resolvia. acionei novamente a assistência via whatsapp e me informaram que eu deveria levar o produto na assistência sob o chamado*******. eu informei que isso me causaria transtornos, uma vez que não tenho tempo para ir até a assistência já que trabalho no mesmo horário em que a assistência atende. me passaram a opção de correios, o que também foge dos meus horários.''')"
      ]
    },
    {
      "cell_type": "code",
      "execution_count": 17,
      "metadata": {
        "colab": {
          "base_uri": "https://localhost:8080/",
          "height": 1000
        },
        "id": "oBNf3_JGWzB9",
        "outputId": "800fb73d-817b-42af-dc2a-5726df1cef48"
      },
      "outputs": [
        {
          "data": {
            "text/html": [
              "<span class=\"tex2jax_ignore\"><div class=\"entities\" style=\"line-height: 2.5; direction: ltr\">\n",
              "<mark class=\"entity\" style=\"background: #ddd; padding: 0.45em 0.6em; margin: 0 0.25em; line-height: 1; border-radius: 0.35em;\">\n",
              "    Adquiri um notebook ntb positivo motion gray c4120f através do site da positivo por conta de estar iniciando um novo curso de pós graduação. o produto foi entregue mas em seguida tive que fazer uma viagem e fiquei quase 30 dias fora. quando voltei e fui dar início à minhas aulas, o notebook conectava no wi-fi mas caia a cada 5 minutos, não dava pra utilizar por o problema era contínuo. acessei o atendimento da empresa via whatsapp e segui todas as orientações, atualizei, reconfigurei, baixei drive novo, restaurei o note inteiro e nada. absolutamente nada resolvia. acionei novamente a assistência via whatsapp e me informaram que eu deveria levar o produto na assistência sob o chamado*******. eu informei que isso me causaria transtornos, uma vez que não tenho tempo para ir até a assistência já que trabalho no mesmo horário em que a assistência atende. me passaram a opção de correios, o que também foge dos meus horários.\n",
              "    <span style=\"font-size: 0.8em; font-weight: bold; line-height: 1; border-radius: 0.35em; vertical-align: middle; margin-left: 0.5rem\">MOTIVO</span>\n",
              "</mark>\n",
              "</div></span>"
            ],
            "text/plain": [
              "<IPython.core.display.HTML object>"
            ]
          },
          "metadata": {},
          "output_type": "display_data"
        }
      ],
      "source": [
        "spacy.displacy.render(doc, style=\"ent\", jupyter=True)"
      ]
    }
  ],
  "metadata": {
    "colab": {
      "name": "Custom NER with Spacy3",
      "provenance": []
    },
    "kernelspec": {
      "display_name": "Python 3",
      "name": "python3"
    },
    "language_info": {
      "codemirror_mode": {
        "name": "ipython",
        "version": 3
      },
      "file_extension": ".py",
      "mimetype": "text/x-python",
      "name": "python",
      "nbconvert_exporter": "python",
      "pygments_lexer": "ipython3",
      "version": "3.12.7"
    }
  },
  "nbformat": 4,
  "nbformat_minor": 0
}
